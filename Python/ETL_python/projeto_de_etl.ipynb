{
 "cells": [
  {
   "cell_type": "code",
   "execution_count": null,
   "metadata": {},
   "outputs": [],
   "source": [
    "#Importamos os modulos !\n",
    "import pandas as pd\n",
    "#Instalamoso pandera no jupyter notebook!\n",
    "#!pip install pandera\n",
    "#O panderanos permite criar schemas para validaçãode dados!\n",
    "import pandera as pa"
   ]
  },
  {
   "cell_type": "code",
   "execution_count": null,
   "metadata": {},
   "outputs": [],
   "source": [
    "#Fazemos a leitura do arquivo e passamos um novo separador do arquivo csv, no caso o cenipa usou como padrão ';'!\n",
    "#Usamos tambem o parse_dates para informar ao pandas qual colunaeledeve interpretrar como data!\n",
    "#Usamos tambem a passagem de parametro da data para alinha-la e ficar certinho\n",
    "dataframe = pd.read_csv('ocorrencia1.csv',sep=';', parse_dates=['ocorrencia_dia'],dayfirst = True)\n",
    "#comando exclusivodojupyter notebook para printar/exibir um valor dentro da variavel!\n",
    "dataframe.head(10)#obs: podemos usar a função .tail()"
   ]
  },
  {
   "cell_type": "code",
   "execution_count": null,
   "metadata": {},
   "outputs": [],
   "source": [
    "#Faremos nosso schema para realizar a validaçãoda data!\n",
    "#faremosisso apos a criaçãodo data frame pois para o schema existir tem de haver o dataframe!\n",
    "#dentroda variavel schema passamosomodulo pandera comopa e criamos a função dataframeschema com \n",
    "#as colunas do data frame como argumentoda função do schema!\n",
    "schema = pa.DataFrameSchema(\n",
    "    columns={\n",
    "        \"codigo_ocorrencia\": pa.Column(pa.Int),\n",
    "        \"codigo_ocorrencia2\": pa.Column(pa.Int),\n",
    "        \"ocorrencia_classificacao\": pa.Column(pa.String),\n",
    "        \"ocorrencia_cidade\": pa.Column(pa.String),\n",
    "        \"ocorrencia_uf\": pa.Column(pa.String),\n",
    "        \"ocorrencia_aerodromo\": pa.Column(pa.String),\n",
    "        \"ocorrencia_dia\": pa.Column(pa.DateTime),\n",
    "        \"ocorrencia_hora\": pa.Column(pa.String, pa.Check.Str_maches(r'^([0-1]?[0-9|[2][0-3]):([0-5]|[0-9])([0-5]|[0-9])?$')nullable=True),\n",
    "        \"total_recomendacoes\":pa.Column(pa.Int)\n",
    "    }\n",
    ")"
   ]
  },
  {
   "cell_type": "code",
   "execution_count": null,
   "metadata": {},
   "outputs": [],
   "source": [
    "#comando exclusivodo jupyter notebook!\n",
    "#exibimos a validação do schema!\n",
    "schema.validate(dataframe)"
   ]
  },
  {
   "cell_type": "markdown",
   "metadata": {},
   "source": [
    "#usamos o dtypes para verificarmosos tipos dedadosdentros de nosso dataframe\n",
    "dataframe.dtypes"
   ]
  },
  {
   "cell_type": "markdown",
   "metadata": {},
   "source": [
    "#Aqui usamos onosso dataframe na coluna ocorrencia_dia como datetime como 'dt' e extraimos o mes de cada ocorrencia!\n",
    "dataframe.ocorrencia_dia.dt.month"
   ]
  },
  {
   "cell_type": "code",
   "execution_count": null,
   "metadata": {},
   "outputs": [],
   "source": []
  },
  {
   "cell_type": "code",
   "execution_count": null,
   "metadata": {},
   "outputs": [],
   "source": []
  },
  {
   "cell_type": "code",
   "execution_count": null,
   "metadata": {},
   "outputs": [],
   "source": []
  }
 ],
 "metadata": {
  "kernelspec": {
   "display_name": "Python 3",
   "language": "python",
   "name": "python3"
  },
  "language_info": {
   "codemirror_mode": {
    "name": "ipython",
    "version": 3
   },
   "file_extension": ".py",
   "mimetype": "text/x-python",
   "name": "python",
   "nbconvert_exporter": "python",
   "pygments_lexer": "ipython3",
   "version": "3.8.5"
  }
 },
 "nbformat": 4,
 "nbformat_minor": 4
}
