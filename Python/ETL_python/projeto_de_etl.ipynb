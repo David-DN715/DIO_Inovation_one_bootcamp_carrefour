#Importamos os modulos !
import pandas as pd
#Instalamoso pandera no jupyter notebook!
#!pip install pandera
#O panderanos permite criar schemas para validaçãode dados!
import pandera as pa

#Fazemos a leitura do arquivo e passamos um novo separador do arquivo csv, no caso o cenipa usou como padrão ';'!
#Usamos tambem o parse_dates para informar ao pandas qual colunaeledeve interpretrar como data!
#Usamos tambem a passagem de parametro da data para alinha-la e ficar certinho
dataframe = pd.read_csv('ocorrencia1.csv',sep=';', parse_dates=['ocorrencia_dia'],dayfirst = True)
#comando exclusivodojupyter notebook para printar/exibir um valor dentro da variavel!
dataframe.head(10)#obs: podemos usar a função .tail()

#Faremos nosso schema para realizar a validaçãoda data!
#faremosisso apos a criaçãodo data frame pois para o schema existir tem de haver o dataframe!
#dentroda variavel schema passamosomodulo pandera comopa e criamos a função dataframeschema com 
#as colunas do data frame como argumentoda função do schema!
schema = pa.DataFrameSchema(
    columns={
        "codigo_ocorrencia": pa.Column(pa.Int),
        "codigo_ocorrencia2": pa.Column(pa.Int),
        "ocorrencia_classificacao": pa.Column(pa.String),
        "ocorrencia_cidade": pa.Column(pa.String),
        "ocorrencia_uf": pa.Column(pa.String),
        "ocorrencia_aerodromo": pa.Column(pa.String),
        "ocorrencia_dia": pa.Column(pa.DateTime),
        "ocorrencia_hora": pa.Column(pa.String, pa.Check.Str_maches(r'^([0-1]?[0-9|[2][0-3]):([0-5]|[0-9])([0-5]|[0-9])?$')nullable=True),
        "total_recomendacoes":pa.Column(pa.Int)
    }
)#comando exclusivodo jupyter notebook!
#exibimos a validação do schema!
schema.validate(dataframe)

#usamos o dtypes para verificarmosos tipos dedadosdentros de nosso dataframe
#dataframe.dtypes

#Aqui usamos onosso dataframe na coluna ocorrencia_dia como datetime como 'dt' e extraimos o mes de cada ocorrencia!
#dataframe.ocorrencia_dia.dt.month
